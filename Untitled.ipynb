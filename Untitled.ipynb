{
 "cells": [
  {
   "cell_type": "code",
   "execution_count": 1,
   "metadata": {},
   "outputs": [],
   "source": [
    "import plotly.express as px"
   ]
  },
  {
   "cell_type": "code",
   "execution_count": null,
   "metadata": {},
   "outputs": [],
   "source": [
    "def get_dbscan_labels(features, eps=100, min_samples=10):\n",
    "    '''\n",
    "    Plots clustered labels found by DBSCAN and plots with T-SNE using a dataframe\n",
    "    '''\n",
    "    \n",
    "    #eps = 100 #set eps value\n",
    "    #min_samples =  #set min sample value\n",
    "\n",
    "    dbscan = cluster.DBSCAN(eps=eps, min_samples=min_samples) #run dbscan to create clusters with specified eps value\n",
    "    predicted_labels = dbscan.fit_predict(features) #save the predicted labels\n",
    "\n",
    "\n",
    "    #df['labels'] = predicted_labels #append labels to original df\n",
    "\n",
    "    return predicted_labels\n",
    "\n",
    "def plot_cluster_labels(features, predicted_labels, eps):\n",
    "    #plot without tsne\n",
    "    plot_clustered_dataset(features[:,:2], predicted_labels, xlim=None, ylim= None,\n",
    "                               neighborhood=False, epsilon=eps, title=f\"esp:{eps} min samples:{min_samples}\")\n",
    "\n",
    "    X_embedded = TSNE(n_components=2).fit_transform(features) #run TSNE and save x and y components\n",
    "\n",
    "    #plot with TSNE x and y components\n",
    "    plot_clustered_dataset(X_embedded, predicted_labels, xlim=None, ylim= None,\n",
    "                               neighborhood=False, epsilon=eps, title=f\"esp:{eps} min samples:{min_samples}\")"
   ]
  },
  {
   "cell_type": "code",
   "execution_count": null,
   "metadata": {},
   "outputs": [],
   "source": [
    "x['labels'] = get_dbscan_labels(features=X, eps=1000, min_samples=50) #Shfit tab while in function to see documentation"
   ]
  },
  {
   "cell_type": "code",
   "execution_count": null,
   "metadata": {},
   "outputs": [],
   "source": [
    "plot_cluster_labels(features=X, predicted_labels=x['labels'], eps=1000)"
   ]
  },
  {
   "cell_type": "markdown",
   "metadata": {},
   "source": [
    "- population density, \n",
    "- % female laborers of total labor force, \n",
    "- under 5 mortality, \n",
    "- life expectancy at birth (years), \n",
    "- GDP per capita, \n",
    "- death rate, crude per 1000 people\n",
    "- birth rate, crude per 1000 people\n",
    "- renewable electricity output (% of total electricity output)\n",
    "- population growth (annual %)\n",
    "- primaray education duration (years)"
   ]
  },
  {
   "cell_type": "code",
   "execution_count": null,
   "metadata": {},
   "outputs": [],
   "source": []
  }
 ],
 "metadata": {
  "kernelspec": {
   "display_name": "learn-env",
   "language": "python",
   "name": "learn-env"
  },
  "language_info": {
   "codemirror_mode": {
    "name": "ipython",
    "version": 3
   },
   "file_extension": ".py",
   "mimetype": "text/x-python",
   "name": "python",
   "nbconvert_exporter": "python",
   "pygments_lexer": "ipython3",
   "version": "3.6.6"
  },
  "toc": {
   "base_numbering": 1,
   "nav_menu": {},
   "number_sections": true,
   "sideBar": true,
   "skip_h1_title": false,
   "title_cell": "Table of Contents",
   "title_sidebar": "Contents",
   "toc_cell": false,
   "toc_position": {},
   "toc_section_display": true,
   "toc_window_display": false
  }
 },
 "nbformat": 4,
 "nbformat_minor": 2
}
